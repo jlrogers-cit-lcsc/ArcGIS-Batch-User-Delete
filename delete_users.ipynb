{
 "cells": [
  {
   "cell_type": "code",
   "execution_count": null,
   "metadata": {},
   "outputs": [],
   "source": [
    "# (REQUIRED) Establishes a 60-minute authenticated session to an arcgis.com portal\n",
    "\n",
    "# Import only needed modules from arcgis.gis library for leaner cleaner code\n",
    "from arcgis.gis import GIS\n",
    "from arcgis.gis import RoleManager\n",
    "from arcgis.gis import UserManager\n",
    "\n",
    "# TO-DO: Implement a loading animation for logins and queries\n",
    "\n",
    "try:\n",
    "    portal_url = str(input('Enter AGOL url [https://lcsc.maps.arcgis.com]: ') or 'https://lcsc.maps.arcgis.com')\n",
    "    user_name = input('Enter username: ')\n",
    "    gis = GIS('https://lcsc.maps.arcgis.com', user_name)\n",
    "    print(f'Successfully logged in as: {gis.properties.user.username}')\n",
    "    print(f'Welcome to {gis.properties.name} ({gis.properties.portalName} {gis.properties.currentVersion})!')\n",
    "except Exception as e:\n",
    "    print(e)"
   ]
  },
  {
   "cell_type": "code",
   "execution_count": null,
   "metadata": {},
   "outputs": [],
   "source": [
    "# (REQUIRED) Sets up role and user management then compiles a list of all user objects\n",
    "\n",
    "# Instantiate the RoleManager class on the AGOL connection to retrieve and manage roles\n",
    "role_mgr = RoleManager(gis)\n",
    "\n",
    "# RoleId of the role we want to manage\n",
    "role_id = 'sDz0Iq02sOgMtUkR'\n",
    "\n",
    "# Use the RoleId to retrieve and save the role as an object for use later\n",
    "role_obj = role_mgr.get_role(role_id)\n",
    "\n",
    "# Instantiate the UserManager class on the AGOL connection to retrieve and manage users\n",
    "user_mgr = UserManager(gis)\n",
    "\n",
    "# Retrieve the total users in the organization for efficient searching later\n",
    "# gis.users.search() returns a max of 100 users by default, this overcomes that limitation\n",
    "num_users = user_mgr.counts('user_type', as_df=False)\n",
    "\n",
    "# Create a list of all users assigned the role we want to manage\n",
    "# Searching takes a long time, prepared to wait\n",
    "users = [user for user in user_mgr.search(query=None, max_users=num_users[0]['count'])]"
   ]
  },
  {
   "cell_type": "code",
   "execution_count": null,
   "metadata": {},
   "outputs": [],
   "source": [
    "# (OPTIONAL)\n",
    "# Retrieve all roles in the AGOL organization\n",
    "roles = role_mgr.all()\n",
    "\n",
    "# Display all role IDs and names.\n",
    "print(f'{\"[Role ID]\":16} | {\"[NAME]\"}')\n",
    "for role in roles:\n",
    "    print(f'{getattr(role, \"role_id\", \"ROLE ID NOT FOUND\"):16} | {getattr(role, \"name\", \"ROLE NAME NOT FOUND\")}')\n",
    "        \n",
    "# Display the human-readable name of the role set under the role_id variable in the second cell \n",
    "print(f'\\nRole to Manage: {getattr(role_obj, \"name\", \"ROLE NAME NOT FOUND\")} ({getattr(role_obj, \"role_id\", \"ROLE ID NOT FOUND\")})\\nDescription: {getattr(role_obj, \"description\", \"ROLE DESCRIPTION NOT FOUND\")}')"
   ]
  },
  {
   "cell_type": "code",
   "execution_count": null,
   "metadata": {},
   "outputs": [],
   "source": [
    "# (OPTIONAL) Display all users in the AGOL organization in csv format\n",
    "# TO-DO option to export this list to a csv file, as it is, copy and paste\n",
    "print(f'Total Users: {num_users[0][\"count\"]}\\n')\n",
    "print(\"id,fullName,username,email,role\")\n",
    "for user in users:\n",
    "    print(f'{getattr(user, \"id\", \"NOT FOUND\")},{getattr(user, \"fullName\", \"NOT FOUND\")},{getattr(user, \"username\", \"NOT FOUND\")},{getattr(user, \"email\", \"NOT FOUND\")},{getattr(user, \"role\", \"NOT FOUND\")}')"
   ]
  },
  {
   "cell_type": "code",
   "execution_count": null,
   "metadata": {},
   "outputs": [],
   "source": [
    "# (REQUIRED) Displays all users with the role to delete\n",
    "\n",
    "# Populate a list of users who have the roleId matching that we want to delete\n",
    "users_to_delete = [user for user in users if user.roleId == role_id]\n",
    "\n",
    "# Display a count of the users with the role to delete and \n",
    "print(f'Total users with role {role_id}: {len(users_to_delete)}\\n')\n",
    "for user in users_to_delete:\n",
    "    print('{0}\\n{2}\\n'.format(\n",
    "        getattr(user, 'fullName', 'NOT FOUND'),\n",
    "        getattr(user, 'username', 'NOT FOUND'),\n",
    "        getattr(user, 'email', 'NOT FOUND'),\n",
    "        getattr(user, 'role', 'NOT FOUND')))"
   ]
  },
  {
   "cell_type": "code",
   "execution_count": null,
   "metadata": {},
   "outputs": [],
   "source": [
    "# Run this cell to delete all users with the role_id set in the second cell\n",
    "# WARNING!!! ONLY DO THIS IF YOU'VE VERIFIED THE LIST OF USERS IN THE CELL ABOVE!!!\n",
    "\n",
    "for user in users_to_delete:\n",
    "    try:\n",
    "        print(f'Deleting: {user.username}')\n",
    "        user.delete(reassign_to='LCSCGIS')\n",
    "        print(f'Successfully deleted: {user.username}')\n",
    "    except Exception as e:\n",
    "        print(e)\n",
    "print('Done!')"
   ]
  }
 ],
 "metadata": {
  "kernelspec": {
   "display_name": "ArcGISPro",
   "language": "Python",
   "name": "python3"
  },
  "language_info": {
   "file_extension": ".py",
   "name": "python",
   "version": "3"
  }
 },
 "nbformat": 4,
 "nbformat_minor": 2
}
